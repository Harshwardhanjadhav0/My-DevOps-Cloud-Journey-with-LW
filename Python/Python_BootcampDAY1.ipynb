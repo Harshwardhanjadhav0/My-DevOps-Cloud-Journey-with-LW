{
 "cells": [
  {
   "cell_type": "code",
   "execution_count": 34,
   "id": "2948441c-3711-4f5a-9b88-81ae3288e09a",
   "metadata": {},
   "outputs": [],
   "source": [
    "#problem : How to prepare tea??\n",
    "  #algo -\n",
    "\n",
    "\n",
    "def teaprepare(boiling, teapowder, sugar, stiring,):                         ##single responsibility principle (SRP)\n",
    "    print(f\"take water boil it { boiling } min\")\n",
    "    print(\"add milk\")\n",
    "    print(f\"add { teapowder } spoon tea powder\")  \n",
    "    print(f\"{ sugar} spoon of sugar\")\n",
    "    print(f\"stir it for { stiring } min\")\n",
    "    \n",
    "    return (\"take it in cup\")"
   ]
  },
  {
   "cell_type": "code",
   "execution_count": 35,
   "id": "1ef8664a-cf94-4a30-97cc-b63a5cc165f8",
   "metadata": {},
   "outputs": [
    {
     "name": "stdout",
     "output_type": "stream",
     "text": [
      "take water boil it 10 min\n",
      "add milk\n",
      "add 4 spoon tea powder\n",
      "9 spoon of sugar\n",
      "stir it for 1 min\n"
     ]
    },
    {
     "data": {
      "text/plain": [
       "'take it in cup'"
      ]
     },
     "execution_count": 35,
     "metadata": {},
     "output_type": "execute_result"
    }
   ],
   "source": [
    "teaprepare(10, 4, 9, 1)"
   ]
  },
  {
   "cell_type": "code",
   "execution_count": 36,
   "id": "1551c733-057c-4e8f-8911-63a5a2955532",
   "metadata": {},
   "outputs": [],
   "source": [
    "def lw():\n",
    "    x =8\n",
    "    y = 10\n",
    "    print(x + y)"
   ]
  },
  {
   "cell_type": "code",
   "execution_count": 37,
   "id": "103fbc40-5637-4039-86ae-e994fa9339ea",
   "metadata": {},
   "outputs": [
    {
     "name": "stdout",
     "output_type": "stream",
     "text": [
      "18\n"
     ]
    }
   ],
   "source": [
    "z = lw()"
   ]
  },
  {
   "cell_type": "code",
   "execution_count": null,
   "id": "a695cbbf-4367-49c6-bacc-50d5b533c281",
   "metadata": {},
   "outputs": [],
   "source": []
  },
  {
   "cell_type": "code",
   "execution_count": null,
   "id": "b3a0b202-21bf-4620-905b-c78b7d653141",
   "metadata": {},
   "outputs": [],
   "source": []
  }
 ],
 "metadata": {
  "kernelspec": {
   "display_name": "Python 3 (ipykernel)",
   "language": "python",
   "name": "python3"
  },
  "language_info": {
   "codemirror_mode": {
    "name": "ipython",
    "version": 3
   },
   "file_extension": ".py",
   "mimetype": "text/x-python",
   "name": "python",
   "nbconvert_exporter": "python",
   "pygments_lexer": "ipython3",
   "version": "3.12.7"
  }
 },
 "nbformat": 4,
 "nbformat_minor": 5
}
