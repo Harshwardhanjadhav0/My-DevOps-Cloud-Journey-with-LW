{
 "cells": [
  {
   "cell_type": "code",
   "execution_count": 1,
   "id": "7c88957e-f615-4276-9f84-aac1bd95d750",
   "metadata": {},
   "outputs": [],
   "source": [
    "class Solution:\n",
    "    def climbStairs(self, n: int) -> int:  #solution one of 1/05/2025\n",
    "        if n == 1:\n",
    "            return 1\n",
    "        prev1 = 1\n",
    "        prev2 = 1\n",
    "        for i in range(2, n+1):\n",
    "            cur = prev1 + prev2\n",
    "            prev2 = prev1\n",
    "            prev1 = cur\n",
    "        return prev1"
   ]
  },
  {
   "cell_type": "code",
   "execution_count": null,
   "id": "8dff690a-9894-4cd9-b58d-778e38570ffc",
   "metadata": {},
   "outputs": [],
   "source": [
    "class Solution:\n",
    "    def maxProfit(self, prices: List[int]) -> int:\n",
    "        min_price = float('inf')\n",
    "        max_profit = 0\n",
    "        for p in prices:      # Solution two of the 1/05/2025\n",
    "            if p < min_price:\n",
    "                min_price = p\n",
    "            elif p - min_price > max_profit:\n",
    "                max_profit = p - min_price\n",
    "        return max_profit"
   ]
  },
  {
   "cell_type": "code",
   "execution_count": null,
   "id": "3d3c9e10-f599-43b8-bbb7-11b29fcdf973",
   "metadata": {},
   "outputs": [],
   "source": [
    "class Solution:\n",
    "    def reverseString(self, s: List[str]) -> None:\n",
    "        left = 0                  # Solution three of 1/05/2025\n",
    "        right = len(s)-1\n",
    "        while left < right:\n",
    "            s[left] , s[right] = s[right] , s[left]\n",
    "            left+=1\n",
    "            right-=1\n",
    "        "
   ]
  }
 ],
 "metadata": {
  "kernelspec": {
   "display_name": "Python 3 (ipykernel)",
   "language": "python",
   "name": "python3"
  },
  "language_info": {
   "codemirror_mode": {
    "name": "ipython",
    "version": 3
   },
   "file_extension": ".py",
   "mimetype": "text/x-python",
   "name": "python",
   "nbconvert_exporter": "python",
   "pygments_lexer": "ipython3",
   "version": "3.12.7"
  }
 },
 "nbformat": 4,
 "nbformat_minor": 5
}
