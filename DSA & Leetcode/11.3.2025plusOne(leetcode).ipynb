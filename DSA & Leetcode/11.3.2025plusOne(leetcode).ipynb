{
 "cells": [
  {
   "cell_type": "code",
   "execution_count": 8,
   "id": "8c7c4ca9-b84d-4529-a79d-dd291e86fb82",
   "metadata": {},
   "outputs": [],
   "source": [
    "def plusOne(digits):\n",
    "    n = len(digits)"
   ]
  },
  {
   "cell_type": "code",
   "execution_count": 15,
   "id": "b10f1bc8-62bd-43f9-9b44-68ee28a5f0cf",
   "metadata": {},
   "outputs": [],
   "source": [
    "digits = [1, 2, 3, 4, 5, 6, 7, 8]"
   ]
  },
  {
   "cell_type": "code",
   "execution_count": 16,
   "id": "48936fbc-0307-4504-a417-ce58926aa2ef",
   "metadata": {},
   "outputs": [],
   "source": [
    "n = len(digits)"
   ]
  },
  {
   "cell_type": "code",
   "execution_count": 17,
   "id": "a7aa03c3-e0f8-4286-8346-33dfda24b1e0",
   "metadata": {},
   "outputs": [
    {
     "data": {
      "text/plain": [
       "8"
      ]
     },
     "execution_count": 17,
     "metadata": {},
     "output_type": "execute_result"
    }
   ],
   "source": [
    "n"
   ]
  },
  {
   "cell_type": "code",
   "execution_count": 18,
   "id": "d58fc0f7-7c80-4f6a-91a0-5bd9f4817457",
   "metadata": {},
   "outputs": [
    {
     "name": "stdout",
     "output_type": "stream",
     "text": [
      "7 is the index of 8\n",
      "6 is the index of 7\n",
      "5 is the index of 6\n",
      "4 is the index of 5\n",
      "3 is the index of 4\n",
      "2 is the index of 3\n",
      "1 is the index of 2\n",
      "0 is the index of 1\n"
     ]
    }
   ],
   "source": [
    "for i in range( n -1, -1, -1):\n",
    "    print(i, \"is the index of\", digits[i])"
   ]
  },
  {
   "cell_type": "code",
   "execution_count": null,
   "id": "f9ace30e-d030-44e9-9355-dd78fe24a870",
   "metadata": {},
   "outputs": [],
   "source": [
    "def plusOne(digits):     #created a funtion and a variable (digits) in plusOne(). FUNCTION DEFINATION\n",
    "    n = len(digits)       #storing length of digits variable in (n) variable. GET LENGTH OF INPUT\n",
    "    for i in range(n - 1, -1, -1):   #using for loop, given variable i in range funtion with n variable and minus(-) 1, stop condition.\n",
    "                                     #Loop Over Digits (Right to Left)\n",
    "        if digits[i] < 9:   #Check if Digit Can Be Incremented. if the number is less than nine, we can add no. (+=1) to it. \n",
    "            digits[i] += 1   #add number to the digits in (i) variable (Increment and Return)\n",
    "            return digits    #returning digits.\n",
    "        digits[i] = 0       #Handle Carry (Set Digit to 0).\n",
    "    return [1] + digits  #Handle All 9s Edge Case."
   ]
  },
  {
   "cell_type": "code",
   "execution_count": null,
   "id": "72239af1-26bd-4bed-ba03-f5811f910fae",
   "metadata": {},
   "outputs": [],
   "source": [
    "# FORM THIS QUESTION STARTS SOLVING (CODE)"
   ]
  },
  {
   "cell_type": "code",
   "execution_count": 42,
   "id": "bfa805f3-d4fa-4a9e-ba1c-bc845c42a8d3",
   "metadata": {},
   "outputs": [],
   "source": [
    "digits = [6, 7, 8, 9] #ADDING INPUT TO DIGITS VARIABLE"
   ]
  },
  {
   "cell_type": "code",
   "execution_count": 43,
   "id": "5fc391e8-b290-409e-ac0f-09dd8002bee8",
   "metadata": {},
   "outputs": [],
   "source": [
    "def plusOne(digits):     \n",
    "    n = len(digits)       \n",
    "    for i in range(n - 1, -1, -1):   \n",
    "        if digits[i] < 9:   \n",
    "            digits[i] += 1   \n",
    "            return digits    \n",
    "        digits[i] = 0       \n",
    "    return [1] + digits     "
   ]
  },
  {
   "cell_type": "code",
   "execution_count": 44,
   "id": "72e8bf11-946a-4040-990a-30be78aee01a",
   "metadata": {},
   "outputs": [
    {
     "data": {
      "text/plain": [
       "[6, 7, 9, 0]"
      ]
     },
     "execution_count": 44,
     "metadata": {},
     "output_type": "execute_result"
    }
   ],
   "source": [
    "plusOne(digits)  #CALLING THE FUNCTION BACK WITH DIGITS VARIABLE."
   ]
  },
  {
   "cell_type": "code",
   "execution_count": 45,
   "id": "289ebf02-f77c-4fb7-9825-41f4c7ca1e5b",
   "metadata": {},
   "outputs": [
    {
     "data": {
      "text/plain": [
       "[6, 7, 9, 0]"
      ]
     },
     "execution_count": 45,
     "metadata": {},
     "output_type": "execute_result"
    }
   ],
   "source": [
    "digits"
   ]
  },
  {
   "cell_type": "code",
   "execution_count": null,
   "id": "f07d347d-279d-4afe-b3d7-4b48c67744b4",
   "metadata": {},
   "outputs": [],
   "source": []
  }
 ],
 "metadata": {
  "kernelspec": {
   "display_name": "Python 3 (ipykernel)",
   "language": "python",
   "name": "python3"
  },
  "language_info": {
   "codemirror_mode": {
    "name": "ipython",
    "version": 3
   },
   "file_extension": ".py",
   "mimetype": "text/x-python",
   "name": "python",
   "nbconvert_exporter": "python",
   "pygments_lexer": "ipython3",
   "version": "3.12.7"
  }
 },
 "nbformat": 4,
 "nbformat_minor": 5
}
