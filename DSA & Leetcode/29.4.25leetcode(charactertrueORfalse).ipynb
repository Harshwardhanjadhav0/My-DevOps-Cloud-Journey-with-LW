{
 "cells": [
  {
   "cell_type": "code",
   "execution_count": 9,
   "id": "a9577dc7-f2e6-4998-a6ba-7348627e7f24",
   "metadata": {},
   "outputs": [
    {
     "data": {
      "text/plain": [
       "'\\nmap = { \\')\\':\\'(\\', \\'}\\':\\'\\'{, \\']\\':\\'[\\'}\\n\\ns = \"{} () []\" then True\\n\\nand if s = \"{)] or ([]}\" then False\\n\\n\\nif not stack or stack -1 is not in map character return false.\\n\\n\\n\\n'"
      ]
     },
     "execution_count": 9,
     "metadata": {},
     "output_type": "execute_result"
    }
   ],
   "source": [
    "\"\"\"\n",
    "map = { ')':'(', '}':''{, ']':'['}\n",
    "\n",
    "s = \"{} () []\" then True\n",
    "\n",
    "and if s = \"{)] or ([]}\" then False\n",
    "\n",
    "\n",
    "if not stack or stack -1 is not in map character return false.\n",
    "\n",
    "\n",
    "\n",
    "\"\"\""
   ]
  },
  {
   "cell_type": "code",
   "execution_count": 11,
   "id": "78506da3-ac68-4eac-a98a-e33438b816b0",
   "metadata": {},
   "outputs": [],
   "source": [
    "class Solution:\n",
    "    def isValid(self, s: str) -> bool:\n",
    "        stack = []\n",
    "        map = { ')':'(', '}':'{', ']':'['}\n",
    "        for i in s:\n",
    "            if i in map.values():\n",
    "                stack.append(char)\n",
    "            elif i in map:\n",
    "                if not stack or stack[-1] != map[i]:\n",
    "                    return False\n",
    "                stack.pop()\n",
    "            else:\n",
    "                return False\n",
    "        return not stack\n",
    "                \n"
   ]
  },
  {
   "cell_type": "code",
   "execution_count": null,
   "id": "60e1f354-7a3a-43eb-b836-9e04001dbe4b",
   "metadata": {},
   "outputs": [],
   "source": []
  }
 ],
 "metadata": {
  "kernelspec": {
   "display_name": "Python 3 (ipykernel)",
   "language": "python",
   "name": "python3"
  },
  "language_info": {
   "codemirror_mode": {
    "name": "ipython",
    "version": 3
   },
   "file_extension": ".py",
   "mimetype": "text/x-python",
   "name": "python",
   "nbconvert_exporter": "python",
   "pygments_lexer": "ipython3",
   "version": "3.12.7"
  }
 },
 "nbformat": 4,
 "nbformat_minor": 5
}
