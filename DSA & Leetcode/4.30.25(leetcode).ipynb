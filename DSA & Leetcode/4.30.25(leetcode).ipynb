{
 "cells": [
  {
   "cell_type": "code",
   "execution_count": null,
   "id": "ad3013cb-24f6-4696-b82b-a0c4e52e69a6",
   "metadata": {},
   "outputs": [],
   "source": [
    "\"\"\"\n",
    "Input: s = 'pwwkew'\n",
    "1- pw\n",
    "2-wk\n",
    "3-wke --3\n",
    "4- kew --3\n",
    "\"\"\""
   ]
  },
  {
   "cell_type": "code",
   "execution_count": null,
   "id": "fd6de3b1-c4b5-4984-b8cc-0bb705e6fab5",
   "metadata": {},
   "outputs": [],
   "source": [
    "class Solution:\n",
    "    def lengthOfLongestSubstring(self, s: str) -> int:\n",
    "        a = {}\n",
    "        start = 0\n",
    "        max_len = 0\n",
    "        for i , c in enumerate(s):\n",
    "            if c in a and a[c] >= start:\n",
    "                start = a[c] + 1\n",
    "            a[c]=i\n",
    "            max_len = max(max_len, i - start + 1)\n",
    "        return max_len \n",
    "                "
   ]
  }
 ],
 "metadata": {
  "kernelspec": {
   "display_name": "Python 3 (ipykernel)",
   "language": "python",
   "name": "python3"
  },
  "language_info": {
   "codemirror_mode": {
    "name": "ipython",
    "version": 3
   },
   "file_extension": ".py",
   "mimetype": "text/x-python",
   "name": "python",
   "nbconvert_exporter": "python",
   "pygments_lexer": "ipython3",
   "version": "3.12.7"
  }
 },
 "nbformat": 4,
 "nbformat_minor": 5
}
