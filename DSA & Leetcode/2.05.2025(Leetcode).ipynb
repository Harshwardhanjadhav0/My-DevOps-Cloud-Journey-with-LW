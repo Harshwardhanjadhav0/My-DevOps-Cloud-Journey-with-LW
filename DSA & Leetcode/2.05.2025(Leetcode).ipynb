{
 "cells": [
  {
   "cell_type": "code",
   "execution_count": null,
   "id": "3969e641-ce61-4e81-bfc2-aa67f28daffd",
   "metadata": {},
   "outputs": [],
   "source": [
    "LINK = https://leetcode.com/problems/find-the-index-of-the-first-occurrence-in-a-string/description/"
   ]
  },
  {
   "cell_type": "code",
   "execution_count": null,
   "id": "d5834a18-2021-4b21-bbb0-7f5e597c0aea",
   "metadata": {},
   "outputs": [],
   "source": [
    "class Solution:\n",
    "    def strStr(self, haystack: str, needle: str) -> int:   #solution 1 the day 2/05/2025\n",
    "        return haystack.find(needle)"
   ]
  },
  {
   "cell_type": "code",
   "execution_count": null,
   "id": "d4a282c1-9f52-440a-8c09-a509cae27916",
   "metadata": {},
   "outputs": [],
   "source": []
  },
  {
   "cell_type": "code",
   "execution_count": null,
   "id": "d3b212a7-a70b-4b4c-b38b-1be0827a7820",
   "metadata": {},
   "outputs": [],
   "source": [
    "LINK = https://leetcode.com/problems/remove-duplicates-from-sorted-array/description/"
   ]
  },
  {
   "cell_type": "code",
   "execution_count": null,
   "id": "c88460ff-332b-46be-b216-4d95a71bdc75",
   "metadata": {},
   "outputs": [],
   "source": [
    "# solution 2 of the day 2/05/2025\n",
    "class Solution:\n",
    "    def removeDuplicates(self, nums: List[int]) -> int:\n",
    "        if not nums:\n",
    "            return 0\n",
    "        i = 0\n",
    "        for j in range(1, len(nums)):\n",
    "            if nums[j] != nums[i]:\n",
    "                i += 1\n",
    "                nums[i] = nums[j]\n",
    "        return i + 1"
   ]
  },
  {
   "cell_type": "code",
   "execution_count": null,
   "id": "34ca9d76-18d8-4d3f-83f6-c071ef38ac08",
   "metadata": {},
   "outputs": [],
   "source": []
  },
  {
   "cell_type": "code",
   "execution_count": null,
   "id": "9452702b-e7a1-438f-8562-b0b6450606ec",
   "metadata": {},
   "outputs": [],
   "source": [
    "LINK = https://leetcode.com/problems/binary-tree-inorder-traversal/"
   ]
  },
  {
   "cell_type": "code",
   "execution_count": null,
   "id": "6dd5619b-37cb-4055-a0f9-e08b06548040",
   "metadata": {},
   "outputs": [],
   "source": [
    "# solution 3 of the day 2/05/2025\n",
    "class Solution:\n",
    "    def inorderTraversal(self, root: Optional[TreeNode]) -> List[int]:\n",
    "       result = []\n",
    "        def inorder(node):\n",
    "            if not node:\n",
    "                return\n",
    "            inorder(node.left)\n",
    "            result.append(node.val)\n",
    "            inorder(node.right)\n",
    "        inorder(root)\n",
    "        return result "
   ]
  },
  {
   "cell_type": "code",
   "execution_count": null,
   "id": "13f042b9-2a6f-4fea-b6dd-172801575ee1",
   "metadata": {},
   "outputs": [],
   "source": []
  },
  {
   "cell_type": "code",
   "execution_count": null,
   "id": "344dc7ba-a1f2-4d0a-a7fe-17ac7b6887dc",
   "metadata": {},
   "outputs": [],
   "source": [
    "LINK: https://leetcode.com/problems/pascals-triangle/description/"
   ]
  },
  {
   "cell_type": "code",
   "execution_count": null,
   "id": "c3de8794-c833-4baa-9248-f37a2021d831",
   "metadata": {},
   "outputs": [],
   "source": [
    "#Solution 4 of the day 2/05/2025\n",
    "class Solution:\n",
    "    def generate(self, numRows: int) -> List[List[int]]:\n",
    "        triangle = []\n",
    "        for i in range(numRows):\n",
    "            row = [1] * (i + 1)\n",
    "            for j in range(1 , i):\n",
    "                row[j] = triangle[i-1][j-1] + triangle[i-1 ][j]\n",
    "            triangle.append(row)\n",
    "        return triangle"
   ]
  }
 ],
 "metadata": {
  "kernelspec": {
   "display_name": "Python 3 (ipykernel)",
   "language": "python",
   "name": "python3"
  },
  "language_info": {
   "codemirror_mode": {
    "name": "ipython",
    "version": 3
   },
   "file_extension": ".py",
   "mimetype": "text/x-python",
   "name": "python",
   "nbconvert_exporter": "python",
   "pygments_lexer": "ipython3",
   "version": "3.12.7"
  }
 },
 "nbformat": 4,
 "nbformat_minor": 5
}
