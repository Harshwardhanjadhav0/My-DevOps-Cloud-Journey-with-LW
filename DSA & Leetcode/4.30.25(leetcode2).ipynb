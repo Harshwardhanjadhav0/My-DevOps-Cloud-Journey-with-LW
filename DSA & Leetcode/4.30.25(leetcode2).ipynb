{
 "cells": [
  {
   "cell_type": "code",
   "execution_count": null,
   "id": "e591854f-7023-4e08-85a6-cdace1c090b2",
   "metadata": {},
   "outputs": [],
   "source": [
    "\"\"\"\n",
    "[1,2,3]\n",
    "\n",
    "amount = 11\n",
    "\n",
    "1+2+2 = 5 + 5 + 1 = 11\n",
    "\n",
    "input: coins = [2], amoiunt =3\n",
    "output: -1\n",
    "\n",
    "2+2 =4\n",
    "\"\"\""
   ]
  },
  {
   "cell_type": "code",
   "execution_count": null,
   "id": "d7eb4666-d2e6-4892-8971-1e6823229a30",
   "metadata": {},
   "outputs": [],
   "source": [
    "class Solution:\n",
    "    def coinChange(self, coins: List[int], amount: int) -> int:\n",
    "        dp = [float('inf') ] * (amount + 1)\n",
    "        dp[0] = 0  # base ammount: 0 coin = 0 amount\n",
    "        for a in range (1, amount + 1 ): # coin amount and count is increasing.\n",
    "            for c in coins:  #\n",
    "                if a >= c:\n",
    "                    d[a] = min(dp[a], dp[a - c ] + 1 )\n",
    "        return dp[amount] if dp[amount ] != float('inf') else -1\n",
    "                    "
   ]
  }
 ],
 "metadata": {
  "kernelspec": {
   "display_name": "Python 3 (ipykernel)",
   "language": "python",
   "name": "python3"
  },
  "language_info": {
   "codemirror_mode": {
    "name": "ipython",
    "version": 3
   },
   "file_extension": ".py",
   "mimetype": "text/x-python",
   "name": "python",
   "nbconvert_exporter": "python",
   "pygments_lexer": "ipython3",
   "version": "3.12.7"
  }
 },
 "nbformat": 4,
 "nbformat_minor": 5
}
