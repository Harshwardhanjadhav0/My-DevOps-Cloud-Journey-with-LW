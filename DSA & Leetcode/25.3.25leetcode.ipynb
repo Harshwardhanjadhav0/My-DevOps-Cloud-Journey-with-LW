{
 "cells": [
  {
   "cell_type": "code",
   "execution_count": 3,
   "id": "09bc3f52-828e-405c-8b5e-c2c4e0042763",
   "metadata": {},
   "outputs": [],
   "source": [
    "# STACK - LIFO - "
   ]
  },
  {
   "cell_type": "code",
   "execution_count": 5,
   "id": "4e59a6fa-49dc-460e-8eee-733bb323e7bd",
   "metadata": {},
   "outputs": [],
   "source": [
    "mapping = { ')': '(' , '}': '{' , ']': '[' }"
   ]
  },
  {
   "cell_type": "code",
   "execution_count": 6,
   "id": "ad0bfd21-5e76-4f56-9c7c-422165888e5a",
   "metadata": {},
   "outputs": [
    {
     "data": {
      "text/plain": [
       "{')': '(', '}': '{', ']': '['}"
      ]
     },
     "execution_count": 6,
     "metadata": {},
     "output_type": "execute_result"
    }
   ],
   "source": [
    "mapping"
   ]
  },
  {
   "cell_type": "code",
   "execution_count": null,
   "id": "2a9bdf33-62b8-449a-8e19-2a0097d47c71",
   "metadata": {},
   "outputs": [],
   "source": [
    "# '}' matches '{'\n",
    "# ']' matches '['\n",
    "#  ')' matches '('"
   ]
  },
  {
   "cell_type": "code",
   "execution_count": 10,
   "id": "e63a221c-7192-4c41-b28f-002bd06e8526",
   "metadata": {},
   "outputs": [],
   "source": [
    "def isValid(s):\n",
    "    stack = []\n",
    "    mapping = { ')': '(' , '}': '{' , ']': '[' }\n",
    "\n",
    "    for char in s:\n",
    "        if char in mapping:\n",
    "            top_element = stack.pop() if stack else '#'\n",
    "            if mapping[char] != top_element: \n",
    "                return False\n",
    "        else:\n",
    "            stack.append(char)\n",
    "    return not stack"
   ]
  },
  {
   "cell_type": "code",
   "execution_count": 15,
   "id": "86649c7e-11de-4284-a9db-93916a35b9ac",
   "metadata": {},
   "outputs": [],
   "source": [
    "s = \"(]\"\n",
    "\n"
   ]
  },
  {
   "cell_type": "code",
   "execution_count": 16,
   "id": "c4c94893-ad74-4be6-bc76-b8080b01b497",
   "metadata": {},
   "outputs": [
    {
     "data": {
      "text/plain": [
       "False"
      ]
     },
     "execution_count": 16,
     "metadata": {},
     "output_type": "execute_result"
    }
   ],
   "source": [
    "isValid(s)"
   ]
  },
  {
   "cell_type": "code",
   "execution_count": null,
   "id": "be9ae3a4-fede-474c-bfae-d1bae7400886",
   "metadata": {},
   "outputs": [],
   "source": []
  }
 ],
 "metadata": {
  "kernelspec": {
   "display_name": "Python 3 (ipykernel)",
   "language": "python",
   "name": "python3"
  },
  "language_info": {
   "codemirror_mode": {
    "name": "ipython",
    "version": 3
   },
   "file_extension": ".py",
   "mimetype": "text/x-python",
   "name": "python",
   "nbconvert_exporter": "python",
   "pygments_lexer": "ipython3",
   "version": "3.12.7"
  }
 },
 "nbformat": 4,
 "nbformat_minor": 5
}
